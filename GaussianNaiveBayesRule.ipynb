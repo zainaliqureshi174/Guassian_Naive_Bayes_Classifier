{
 "cells": [
  {
   "cell_type": "markdown",
   "metadata": {},
   "source": [
    "\n",
    "# Assignment No 2b\n",
    "#### Assignment Credit \n",
    "###### *Dr. Sibt ul Hussain*\n",
    "----\n",
    "## Goal\n",
    "\n",
    "Your goal in this assigment is to implement a Gaussian **Naive** Bayes Classifier.\n"
   ]
  },
  {
   "cell_type": "markdown",
   "metadata": {
    "slideshow": {
     "slide_type": "slide"
    }
   },
   "source": [
    "Naive Bayes Rule \n",
    "==============\n"
   ]
  },
  {
   "cell_type": "markdown",
   "metadata": {},
   "source": [
    "### Instructions\n",
    "- Do not modify the block with test cases.\n",
    "- Do not tailor your solution to only pass the test cases. We will use different data for grading so keep your solution generic.\n",
    "- Passing all the cases means you are in reight direction, but does not ensure 100% marks, there may be some other cases hidden, so carefully read the question statement and implement all the necessory functionality.\n",
    "- <p style=\"color:#ff0000\">Plagiarism of any kind, (including internet) will lead to zero marks.</p>\n",
    "\n",
    "#### Libraries\n",
    "Ther are two additional libraries used which are not included in Anaconda package, nose and seaborn. You can install them using the following commands :\n",
    "```sh\n",
    "conda install -c anaconda nose=1.3.7\n",
    "conda install -c anaconda seaborn=0.7.1\n",
    "```\n",
    "Version of different libraries used are listed below:\n",
    "- Matplotlib **1.5.1**\n",
    "- Pandas **0.18.1**\n",
    "- Numpy **1.11.1**\n",
    "- Scipy **0.17.1**\n",
    "- Seaborn **0.7.1**\n",
    "\n",
    "Code for checking version info is present in cell below.\n",
    "\n",
    "#### Dead Kernal\n",
    "In case kernel does not connect, and shows a dead kernal meggese in read : \n",
    "- Go to Kernal -> Change kernal, and choose any of the available kernels.\n",
    "- Press ctrl + s and close the tab.\n",
    "- Open the notebook again and the kernel will connect. If it still does not connect then go to Kernel -> restart.\n",
    "\n",
    "\n",
    "**Note : ** Accuracies may slightly vary due to randomness in train-text split."
   ]
  },
  {
   "cell_type": "code",
   "execution_count": 443,
   "metadata": {
    "jupyter": {
     "outputs_hidden": false
    },
    "slideshow": {
     "slide_type": "slide"
    }
   },
   "outputs": [
    {
     "name": "stdout",
     "output_type": "stream",
     "text": [
      "%pylab is deprecated, use %matplotlib inline and import the required libraries.\n",
      "Populating the interactive namespace from numpy and matplotlib\n",
      "The autoreload extension is already loaded. To reload it, use:\n",
      "  %reload_ext autoreload\n"
     ]
    }
   ],
   "source": [
    "%pylab inline\n",
    "import scipy.stats as stats\n",
    "import pandas as pd\n",
    "from collections import defaultdict\n",
    "import seaborn as sns\n",
    "#many important functions are already written and provided in tools.py \n",
    "# please have a look at these functions....\n",
    "import tools as t\n",
    "\n",
    "plt.style.use('ggplot')\n",
    "matplotlib.rcParams['figure.figsize'] = (10.0, 8.0)\n",
    "%load_ext autoreload \n",
    "%autoreload 2"
   ]
  },
  {
   "cell_type": "code",
   "execution_count": 444,
   "metadata": {
    "jupyter": {
     "outputs_hidden": false
    }
   },
   "outputs": [
    {
     "name": "stdout",
     "output_type": "stream",
     "text": [
      "Matplotlib version :  3.7.1\n",
      "Pandas version :  1.5.3\n",
      "Numpy version :  1.24.3\n",
      "Scipy version :  1.10.1\n",
      "Seaborn version :  0.12.2\n"
     ]
    }
   ],
   "source": [
    "print (\"Matplotlib version : \", matplotlib.__version__)\n",
    "print (\"Pandas version : \", pd.__version__)\n",
    "print (\"Numpy version : \", np.__version__)\n",
    "print (\"Scipy version : \", scipy.__version__)\n",
    "print (\"Seaborn version : \", sns.__version__)"
   ]
  },
  {
   "cell_type": "code",
   "execution_count": 445,
   "metadata": {
    "jupyter": {
     "outputs_hidden": false
    }
   },
   "outputs": [
    {
     "name": "stdout",
     "output_type": "stream",
     "text": [
      "Help on method pdf in module scipy.stats._distn_infrastructure:\n",
      "\n",
      "pdf(x, *args, **kwds) method of scipy.stats._continuous_distns.norm_gen instance\n",
      "    Probability density function at x of the given RV.\n",
      "    \n",
      "    Parameters\n",
      "    ----------\n",
      "    x : array_like\n",
      "        quantiles\n",
      "    arg1, arg2, arg3,... : array_like\n",
      "        The shape parameter(s) for the distribution (see docstring of the\n",
      "        instance object for more information)\n",
      "    loc : array_like, optional\n",
      "        location parameter (default=0)\n",
      "    scale : array_like, optional\n",
      "        scale parameter (default=1)\n",
      "    \n",
      "    Returns\n",
      "    -------\n",
      "    pdf : ndarray\n",
      "        Probability density function evaluated at x\n",
      "\n"
     ]
    }
   ],
   "source": [
    "help(scipy.stats.norm.pdf)"
   ]
  },
  {
   "cell_type": "code",
   "execution_count": 464,
   "metadata": {
    "deletable": false,
    "jupyter": {
     "outputs_hidden": false
    },
    "nbgrader": {
     "checksum": "c4f14643d4028d7414ef473d0e43aa32",
     "grade": false,
     "grade_id": "nieve_bayes_classifier",
     "locked": false,
     "solution": true
    },
    "slideshow": {
     "slide_type": "slide"
    }
   },
   "outputs": [],
   "source": [
    "# YOUR CODE HERE\n",
    "\n",
    "class GaussianBayes:\n",
    "    ''' Implements the Gaussian Bayes For Classification... '''\n",
    "    def __init__(self):\n",
    "        ''' Initialize the class attributes. '''\n",
    "        self.mean_vectors = None\n",
    "        self.std_vectors = None\n",
    "        self.prior_probs = None\n",
    "        self.classes = None\n",
    "    \n",
    "    def gaussian_likelihood(self, x, mean, std):\n",
    "        exponent = np.exp(-((x - mean) ** 2) / (2 * std ** 2))\n",
    "        coefficient = 1 / np.sqrt(2 * np.pi * std ** 2)\n",
    "        lh = coefficient * exponent\n",
    "        return lh\n",
    "    \n",
    "    def train(self, X, Y):\n",
    "        ''' Train the multiclass (or Binary) Bayes Rule using the given \n",
    "            X [m x n] data matrix and Y labels matrix'''\n",
    "        \n",
    "        # YOUR CODE HERE\n",
    "        # Unique classes\n",
    "        self.classes = np.unique(Y)\n",
    "        \n",
    "        # Calculating Prior Probabilities\n",
    "        prior_probs = []\n",
    "        for c in self.classes:\n",
    "            prior_prob = np.round(np.count_nonzero(Y == c) / len(Y), 2)\n",
    "            prior_probs.append(prior_prob)\n",
    "            self.prior_probs = np.array(prior_probs)\n",
    "\n",
    "        # Calculating Mean Vectors and Standard Deviation Vectors for each class\n",
    "        mean_vectors = []\n",
    "        std_vectors = []\n",
    "\n",
    "        for c in self.classes:\n",
    "            # Mean vector for each class\n",
    "            mean = np.round(np.mean(X[Y == c], axis=0), 2)\n",
    "            mean_vectors.append(mean)\n",
    "            self.mean_vectors = np.array(mean_vectors)\n",
    "            \n",
    "            # Standard Deviation for each feature in the class\n",
    "            std = np.round(np.std(X[Y == c], axis=0), 2)\n",
    "            std_vectors.append(std)\n",
    "            self.std_vectors = np.array(std_vectors)\n",
    "        \n",
    "        print(self.prior_probs) \n",
    "        print(self.mean_vectors)\n",
    "        print(self.std_vectors)\n",
    "\n",
    "    def test(self, X):\n",
    "        ''' Run the trained classifiers on the given set of examples \n",
    "            For each example, you should return probability and its assigned class\n",
    "            Input: X of m x d\n",
    "            Output:\n",
    "            pclasses: predicted class of each example\n",
    "            probabilities: probability of each example falling in that predicted class\n",
    "        '''\n",
    "\n",
    "        n_examples, n_features = X.shape\n",
    "        n_classes = len(self.classes)\n",
    "        probabilities = np.zeros((n_examples, n_classes))\n",
    "        \n",
    "        for i in range(n_examples):\n",
    "            for c in range(n_classes):\n",
    "                prob = self.prior_probs[c]\n",
    "                \n",
    "                for j in range(n_features):\n",
    "                    prob *= self.gaussian_likelihood(X[i][j], self.mean_vectors[c][j], self.std_vectors[c][j])\n",
    "                probabilities[i][c] = prob\n",
    "\n",
    "        predicted_classes = []\n",
    "        for i in range(n_examples):\n",
    "            class_probs = probabilities[i]\n",
    "            max_prob = np.argmax(class_probs)\n",
    "            predicted_class = self.classes[max_prob]\n",
    "            predicted_classes.append(predicted_class)\n",
    "        return predicted_classes, probabilities\n",
    "    \n",
    "    def predict(self, X):\n",
    "        return self.test(X)[0]        "
   ]
  },
  {
   "cell_type": "code",
   "execution_count": 465,
   "metadata": {
    "jupyter": {
     "outputs_hidden": false
    },
    "slideshow": {
     "slide_type": "slide"
    }
   },
   "outputs": [
    {
     "name": "stdout",
     "output_type": "stream",
     "text": [
      "       SepalLength  SepalWidth  PetalLength  PetalWidth\n",
      "count   149.000000  149.000000   149.000000  149.000000\n",
      "mean      5.848322    3.051007     3.774497    1.205369\n",
      "std       0.828594    0.433499     1.759651    0.761292\n",
      "min       4.300000    2.000000     1.000000    0.100000\n",
      "25%       5.100000    2.800000     1.600000    0.300000\n",
      "50%       5.800000    3.000000     4.400000    1.300000\n",
      "75%       6.400000    3.300000     5.100000    1.800000\n",
      "max       7.900000    4.400000     6.900000    2.500000\n"
     ]
    }
   ],
   "source": [
    "data=pd.read_csv('./iris.data')\n",
    "data.columns=['SepalLength','SepalWidth','PetalLength','PetalWidth','Class']\n",
    "print (data.describe())"
   ]
  },
  {
   "cell_type": "markdown",
   "metadata": {},
   "source": [
    "#### Get your data in matrix"
   ]
  },
  {
   "cell_type": "code",
   "execution_count": 466,
   "metadata": {
    "jupyter": {
     "outputs_hidden": false
    },
    "slideshow": {
     "slide_type": "slide"
    }
   },
   "outputs": [
    {
     "name": "stdout",
     "output_type": "stream",
     "text": [
      " Data Set Dimensions= (149, 4)  True Class labels dimensions (149,)\n"
     ]
    }
   ],
   "source": [
    "X=np.asarray(data[['SepalLength','SepalWidth','PetalLength','PetalWidth']].dropna())\n",
    "Y=np.asarray(data['Class'].dropna())\n",
    "print (\" Data Set Dimensions=\", X.shape, \" True Class labels dimensions\", Y.shape)"
   ]
  },
  {
   "cell_type": "markdown",
   "metadata": {},
   "source": [
    "\n",
    "\n",
    "#### Let's Plot the Data"
   ]
  },
  {
   "cell_type": "code",
   "execution_count": 467,
   "metadata": {
    "jupyter": {
     "outputs_hidden": false
    },
    "slideshow": {
     "slide_type": "-"
    }
   },
   "outputs": [
    {
     "data": {
      "image/png": "[encoded data removed]",
      "text/plain": [
       "<Figure size 1000x800 with 1 Axes>"
      ]
     },
     "metadata": {},
     "output_type": "display_data"
    }
   ],
   "source": [
    "#Lets plot the Complete data, with its covariance matrix...\n",
    "# Remember seeing is believing\n",
    "featnames=data.columns\n",
    "t.plotCov(X[:,2:],Y,labels=featnames.values[2:4])"
   ]
  },
  {
   "cell_type": "markdown",
   "metadata": {},
   "source": [
    "### Splitting the Data into Training and Testing Sets\n",
    "There must be a validation set but for this case we are using only two sets, training and validation sets..."
   ]
  },
  {
   "cell_type": "code",
   "execution_count": 468,
   "metadata": {
    "jupyter": {
     "outputs_hidden": false
    }
   },
   "outputs": [
    {
     "name": "stdout",
     "output_type": "stream",
     "text": [
      " Training Data Set Dimensions= (104, 4) Training True Class labels dimensions (104,)\n",
      " Test Data Set Dimensions= (45, 4) Test True Class labels dimensions (104,)\n"
     ]
    }
   ],
   "source": [
    "# Split your data into training and test-set... \n",
    "# see the documentation of split_data in tools for further information...\n",
    "Xtrain,Ytrain,Xtest,Ytest=t.split_data(X,Y)\n",
    "\n",
    "print (\" Training Data Set Dimensions=\", Xtrain.shape, \"Training True Class labels dimensions\", Ytrain.shape)\n",
    "print (\" Test Data Set Dimensions=\", Xtest.shape, \"Test True Class labels dimensions\", Ytrain.shape)"
   ]
  },
  {
   "cell_type": "code",
   "execution_count": 469,
   "metadata": {
    "jupyter": {
     "outputs_hidden": false
    },
    "slideshow": {
     "slide_type": "slide"
    }
   },
   "outputs": [
    {
     "data": {
      "image/png": "[encoded data removed]",
      "text/plain": [
       "<Figure size 1000x800 with 1 Axes>"
      ]
     },
     "metadata": {},
     "output_type": "display_data"
    }
   ],
   "source": [
    "#Lets plot the training data...\n",
    "t.plotCov(Xtrain[:,2:],Ytrain, labels=featnames.values[2:4])\n",
    "# so we will be estimating these covariance matrices and means..."
   ]
  },
  {
   "cell_type": "code",
   "execution_count": 470,
   "metadata": {
    "jupyter": {
     "outputs_hidden": false
    },
    "slideshow": {
     "slide_type": "-"
    }
   },
   "outputs": [
    {
     "data": {
      "image/png": "[encoded data removed]",
      "text/plain": [
       "<Figure size 1000x800 with 1 Axes>"
      ]
     },
     "metadata": {},
     "output_type": "display_data"
    }
   ],
   "source": [
    "#Lets plot the test data...\n",
    "t.plotCov(Xtest[:,2:],Ytest,labels=featnames.values[2:4])"
   ]
  },
  {
   "cell_type": "markdown",
   "metadata": {
    "slideshow": {
     "slide_type": "slide"
    }
   },
   "source": [
    "Training Time\n",
    "========\n",
    "Let's train a Gaussian Bayes, first using two attributes.\n",
    "- What Two Attributes to use ? Any Guess..."
   ]
  },
  {
   "cell_type": "code",
   "execution_count": 471,
   "metadata": {
    "jupyter": {
     "outputs_hidden": false
    },
    "slideshow": {
     "slide_type": "slide"
    }
   },
   "outputs": [
    {
     "name": "stdout",
     "output_type": "stream",
     "text": [
      "[0.33 0.34 0.34]\n",
      "[[1.46 0.24]\n",
      " [4.25 1.33]\n",
      " [5.57 2.05]]\n",
      "[[0.18 0.1 ]\n",
      " [0.49 0.21]\n",
      " [0.52 0.28]]\n"
     ]
    }
   ],
   "source": [
    "# Lets train a Gaussian Bayes Classifier on Petal Length and Width\n",
    "gb=GaussianBayes()\n",
    "gb.train(Xtrain[:,2:],Ytrain)"
   ]
  },
  {
   "cell_type": "code",
   "execution_count": 472,
   "metadata": {
    "jupyter": {
     "outputs_hidden": false
    },
    "slideshow": {
     "slide_type": "slide"
    }
   },
   "outputs": [],
   "source": [
    "#Lets test it on the set of unseen examples...\n",
    "pclasses,res=gb.test(Xtest[:,2:])"
   ]
  },
  {
   "cell_type": "markdown",
   "metadata": {
    "slideshow": {
     "slide_type": "slide"
    }
   },
   "source": [
    "Lets see how good we are doing...\n",
    "=================="
   ]
  },
  {
   "cell_type": "code",
   "execution_count": 473,
   "metadata": {
    "jupyter": {
     "outputs_hidden": false
    },
    "slideshow": {
     "slide_type": "slide"
    }
   },
   "outputs": [
    {
     "name": "stdout",
     "output_type": "stream",
     "text": [
      "[ True  True  True  True  True  True  True  True  True  True  True  True\n",
      "  True  True  True  True  True  True  True  True  True  True  True  True\n",
      "  True  True  True  True  True  True  True  True  True  True  True  True\n",
      "  True  True  True  True  True  True  True  True  True]\n",
      "45\n"
     ]
    }
   ],
   "source": [
    "#Lets see how good we are doing...\n",
    "print (pclasses==Ytest)\n",
    "print (Ytest.shape[0])"
   ]
  },
  {
   "cell_type": "code",
   "execution_count": 474,
   "metadata": {
    "jupyter": {
     "outputs_hidden": false
    },
    "slideshow": {
     "slide_type": "slide"
    }
   },
   "outputs": [
    {
     "name": "stdout",
     "output_type": "stream",
     "text": [
      "45\n",
      "Accuracy =  1.0\n"
     ]
    }
   ],
   "source": [
    "# Using Just two attributes, accuracy is \n",
    "print (np.sum(pclasses==Ytest))\n",
    "print (\"Accuracy = \", np.sum(pclasses==Ytest)/float(Ytest.shape[0]))"
   ]
  },
  {
   "cell_type": "code",
   "execution_count": 475,
   "metadata": {
    "jupyter": {
     "outputs_hidden": false
    },
    "slideshow": {
     "slide_type": "slide"
    }
   },
   "outputs": [
    {
     "name": "stdout",
     "output_type": "stream",
     "text": [
      " Plotting the Decision Surface of Training Set... \n"
     ]
    },
    {
     "name": "stderr",
     "output_type": "stream",
     "text": [
      "/home/muhammad/Desktop/Fall_24/ML_Theory/Assignments/A2/tools.py:691: UserWarning: *c* argument looks like a single numeric RGB or RGBA sequence, which should be avoided as value-mapping will have precedence in case its length matches with *x* & *y*.  Please use the *color* keyword-argument or provide a 2D array with a single row if you intend to specify the same RGB or RGBA value for all points.\n",
      "  plt.scatter(X[y==c, 0],\n"
     ]
    },
    {
     "data": {
      "image/png": "[encoded data removed]",
      "text/plain": [
       "<Figure size 1000x800 with 1 Axes>"
      ]
     },
     "metadata": {},
     "output_type": "display_data"
    }
   ],
   "source": [
    "print (\" Plotting the Decision Surface of Training Set... \")\n",
    "t.plot_decision_regions(Xtrain[:,2:],Ytrain,clf=gb, res=0.02, cycle_marker=True, legend=1)"
   ]
  },
  {
   "cell_type": "markdown",
   "metadata": {},
   "source": [
    "### Test Cases for your classifier"
   ]
  },
  {
   "cell_type": "code",
   "execution_count": 476,
   "metadata": {
    "deletable": false,
    "jupyter": {
     "outputs_hidden": false
    },
    "nbgrader": {
     "checksum": "1554f79f0fa8861fa8257b02c93b79b1",
     "grade": true,
     "grade_id": "nieve_bayes_classifier_two_features",
     "locked": true,
     "points": 5,
     "solution": false
    }
   },
   "outputs": [
    {
     "name": "stdout",
     "output_type": "stream",
     "text": [
      "[0.33 0.34 0.34]\n",
      "[[1.47 0.24]\n",
      " [4.26 1.33]\n",
      " [5.55 2.03]]\n",
      "[[0.17 0.11]\n",
      " [0.47 0.2 ]\n",
      " [0.55 0.27]]\n",
      "All cases passed !\n"
     ]
    }
   ],
   "source": [
    "from nose.tools import assert_greater_equal, assert_is_not_none\n",
    "import pandas as pd\n",
    "data=pd.read_csv('./iris.data')\n",
    "data.columns=['SepalLength','SepalWidth','PetalLength','PetalWidth','Class']\n",
    "X=np.asarray(data[['SepalLength','SepalWidth','PetalLength','PetalWidth']].dropna())\n",
    "Y=np.asarray(data['Class'].dropna())\n",
    "\n",
    "data_val = pd.read_csv('./iris_val.data')\n",
    "data_val.columns = ['SepalLength','SepalWidth','PetalLength','PetalWidth','Class']\n",
    "X_val = np.asarray(data_val[['SepalLength','SepalWidth','PetalLength','PetalWidth']].dropna())\n",
    "Y_val = np.asarray(data_val['Class'].dropna())\n",
    "\n",
    "gb_val=GaussianBayes()\n",
    "gb_val.train(X[:,2:],Y)\n",
    "pclasses_val, _ = gb_val.test(X_val[:,2:])\n",
    "acc_val = np.sum(pclasses_val == Y_val) / float(np.array(pclasses_val).shape[0])\n",
    "\n",
    "assert_greater_equal(acc_val, 0.90, msg=\"Acc must be greater then 90%\")\n",
    "\n",
    "cls =gb.predict(np.array([2,2]).reshape((1,2)))\n",
    "assert_is_not_none(cls, msg=\"Predict should work for single example\")\n",
    "\n",
    "print (\"All cases passed !\")"
   ]
  },
  {
   "cell_type": "markdown",
   "metadata": {},
   "source": [
    "## Question: What can you conclude from the above decision Region"
   ]
  },
  {
   "cell_type": "markdown",
   "metadata": {},
   "source": [
    "# K-Fold Cross Validation\n",
    "\n",
    "Since our dataset is not too big, to ensure that we are reporting true picture of our classifier, \n",
    "we will have to cross validate and report the mean accuracy across the folds to reflect the true \n",
    "picture of our classifier."
   ]
  },
  {
   "cell_type": "code",
   "execution_count": 477,
   "metadata": {
    "jupyter": {
     "outputs_hidden": false
    }
   },
   "outputs": [
    {
     "name": "stdout",
     "output_type": "stream",
     "text": [
      "Generating CV data for 3 classes\n",
      "[0.33 0.34 0.34]\n",
      "[[1.47 0.25]\n",
      " [4.32 1.35]\n",
      " [5.63 2.06]]\n",
      "[[0.18 0.11]\n",
      " [0.42 0.19]\n",
      " [0.57 0.26]]\n",
      "[Info] Fold 1 Accuracy = 0.9444444444444444\n",
      "[0.33 0.34 0.34]\n",
      "[[1.44 0.25]\n",
      " [4.21 1.31]\n",
      " [5.57 2.  ]]\n",
      "[[0.17 0.11]\n",
      " [0.49 0.19]\n",
      " [0.52 0.27]]\n",
      "[Info] Fold 2 Accuracy = 1.0\n",
      "[0.33 0.34 0.34]\n",
      "[[1.48 0.26]\n",
      " [4.29 1.34]\n",
      " [5.55 2.05]]\n",
      "[[0.15 0.12]\n",
      " [0.47 0.21]\n",
      " [0.6  0.27]]\n",
      "[Info] Fold 3 Accuracy = 0.9722222222222222\n",
      "[0.33 0.34 0.34]\n",
      "[[1.47 0.23]\n",
      " [4.22 1.31]\n",
      " [5.49 1.99]]\n",
      "[[0.18 0.09]\n",
      " [0.47 0.2 ]\n",
      " [0.47 0.28]]\n",
      "[Info] Fold 4 Accuracy = 0.9444444444444444\n",
      "[0.9444444444444444, 1.0, 0.9722222222222222, 0.9444444444444444] Mean Accuracy = 0.9652777777777777\n"
     ]
    }
   ],
   "source": [
    "# Now lets cross validate, and test the result...\n",
    "nfolds=4\n",
    "folds=t.generate_folds(X,Y,nfolds)\n",
    "\n",
    "#now lets train and test on these folds...\n",
    "totacc=[]\n",
    "for k in range(nfolds):\n",
    "    gb=GaussianBayes()\n",
    "    gb.train(folds[k][0][:,2:],folds[k][1])\n",
    "    pclasses,res=gb.test(folds[k][2][:,2:])\n",
    "    acc=np.sum(pclasses==folds[k][3])/float(folds[k][3].shape[0])\n",
    "    print (\"[Info] Fold {} Accuracy = {}\".format(k+1, acc))\n",
    "    totacc.append(acc)\n",
    "\n",
    "print (totacc, 'Mean Accuracy =', np.mean(totacc))"
   ]
  },
  {
   "cell_type": "markdown",
   "metadata": {
    "slideshow": {
     "slide_type": "slide"
    }
   },
   "source": [
    "\n",
    "Hmm Quite Impressive...\n",
    "--------------------------------"
   ]
  },
  {
   "cell_type": "code",
   "execution_count": 478,
   "metadata": {
    "jupyter": {
     "outputs_hidden": false
    },
    "slideshow": {
     "slide_type": "slide"
    }
   },
   "outputs": [
    {
     "name": "stdout",
     "output_type": "stream",
     "text": [
      "[0.33 0.34 0.34]\n",
      "[[4.97 3.36 1.46 0.24]\n",
      " [5.94 2.75 4.25 1.33]\n",
      " [6.63 2.99 5.57 2.05]]\n",
      "[[0.33 0.32 0.18 0.1 ]\n",
      " [0.55 0.33 0.49 0.21]\n",
      " [0.63 0.3  0.52 0.28]]\n"
     ]
    }
   ],
   "source": [
    "# Lets go and use all the four attributes...\n",
    "gb.train(Xtrain,Ytrain)"
   ]
  },
  {
   "cell_type": "code",
   "execution_count": 479,
   "metadata": {
    "jupyter": {
     "outputs_hidden": false
    },
    "slideshow": {
     "slide_type": "slide"
    }
   },
   "outputs": [],
   "source": [
    "pclasses,res=gb.test(Xtest)"
   ]
  },
  {
   "cell_type": "markdown",
   "metadata": {
    "slideshow": {
     "slide_type": "slide"
    }
   },
   "source": [
    "#### Do you expect your Test accuracy to increase or decrease ?"
   ]
  },
  {
   "cell_type": "code",
   "execution_count": 480,
   "metadata": {
    "jupyter": {
     "outputs_hidden": false
    },
    "slideshow": {
     "slide_type": "slide"
    }
   },
   "outputs": [
    {
     "name": "stdout",
     "output_type": "stream",
     "text": [
      "Accuracy =  0.9777777777777777\n"
     ]
    }
   ],
   "source": [
    "# Using all four attributes, accuracy is \n",
    "print (\"Accuracy = \", np.sum(pclasses==Ytest)/float(Ytest.shape[0]))"
   ]
  },
  {
   "cell_type": "markdown",
   "metadata": {},
   "source": [
    "### Test cases for all features"
   ]
  },
  {
   "cell_type": "code",
   "execution_count": 481,
   "metadata": {
    "deletable": false,
    "jupyter": {
     "outputs_hidden": false
    },
    "nbgrader": {
     "checksum": "3abb207db8e6d5ce297b7ee415defa80",
     "grade": true,
     "grade_id": "nieve_bayes_classifier_all_features",
     "locked": true,
     "points": 5,
     "solution": false
    }
   },
   "outputs": [
    {
     "name": "stdout",
     "output_type": "stream",
     "text": [
      "[0.33 0.34 0.34]\n",
      "[[5.   3.42 1.47 0.24]\n",
      " [5.94 2.77 4.26 1.33]\n",
      " [6.59 2.97 5.55 2.03]]\n",
      "[[0.35 0.38 0.17 0.11]\n",
      " [0.51 0.31 0.47 0.2 ]\n",
      " [0.63 0.32 0.55 0.27]]\n",
      "All cases passed !\n"
     ]
    }
   ],
   "source": [
    "from nose.tools import assert_greater_equal, assert_is_not_none\n",
    "import pandas as pd\n",
    "data=pd.read_csv('./iris.data')\n",
    "data.columns=['SepalLength','SepalWidth','PetalLength','PetalWidth','Class']\n",
    "X=np.asarray(data[['SepalLength','SepalWidth','PetalLength','PetalWidth']].dropna())\n",
    "Y=np.asarray(data['Class'].dropna())\n",
    "\n",
    "data_val = pd.read_csv('./iris_val.data')\n",
    "data_val.columns = ['SepalLength','SepalWidth','PetalLength','PetalWidth','Class']\n",
    "X_val = np.asarray(data_val[['SepalLength','SepalWidth','PetalLength','PetalWidth']].dropna())\n",
    "Y_val = np.asarray(data_val['Class'].dropna())\n",
    "\n",
    "gb_val=GaussianBayes()\n",
    "gb_val.train(X,Y)\n",
    "pclasses_val, _ = gb_val.test(X_val)\n",
    "acc_val = np.sum(pclasses_val == Y_val) / float(np.array(pclasses_val).shape[0])\n",
    "\n",
    "assert_greater_equal(acc_val, 0.90, msg=\"Acc must be greater then 90%\")\n",
    "\n",
    "cls =gb.predict(np.array([2,2,2,2]).reshape((1,4)))\n",
    "assert_is_not_none(cls, msg=\"Predict should work for single example\")\n",
    "\n",
    "print (\"All cases passed !\")"
   ]
  },
  {
   "cell_type": "markdown",
   "metadata": {
    "slideshow": {
     "slide_type": "slide"
    }
   },
   "source": [
    "What can you conclude ?\n",
    "===================="
   ]
  },
  {
   "cell_type": "markdown",
   "metadata": {},
   "source": [
    "## Let's change the features... "
   ]
  },
  {
   "cell_type": "code",
   "execution_count": 482,
   "metadata": {
    "jupyter": {
     "outputs_hidden": false
    },
    "slideshow": {
     "slide_type": "slide"
    }
   },
   "outputs": [
    {
     "name": "stdout",
     "output_type": "stream",
     "text": [
      "[0.33 0.34 0.34]\n",
      "[[4.97 3.36]\n",
      " [5.94 2.75]\n",
      " [6.63 2.99]]\n",
      "[[0.33 0.32]\n",
      " [0.55 0.33]\n",
      " [0.63 0.3 ]]\n",
      "Accuracy =  0.7333333333333333\n"
     ]
    }
   ],
   "source": [
    "features=[0, 1]\n",
    "gb.train(Xtrain[:,features],Ytrain)\n",
    "pclasses,res=gb.test(Xtest[:,features])\n",
    "print (\"Accuracy = \", np.sum(pclasses==Ytest)/float(Ytest.shape[0]))"
   ]
  },
  {
   "cell_type": "markdown",
   "metadata": {
    "slideshow": {
     "slide_type": "slide"
    }
   },
   "source": [
    "Remember Features are the important !!\n",
    "======================"
   ]
  },
  {
   "cell_type": "code",
   "execution_count": 483,
   "metadata": {
    "jupyter": {
     "outputs_hidden": false
    },
    "slideshow": {
     "slide_type": "slide"
    }
   },
   "outputs": [
    {
     "name": "stderr",
     "output_type": "stream",
     "text": [
      "/home/muhammad/Desktop/Fall_24/ML_Theory/Assignments/A2/tools.py:691: UserWarning: *c* argument looks like a single numeric RGB or RGBA sequence, which should be avoided as value-mapping will have precedence in case its length matches with *x* & *y*.  Please use the *color* keyword-argument or provide a 2D array with a single row if you intend to specify the same RGB or RGBA value for all points.\n",
      "  plt.scatter(X[y==c, 0],\n"
     ]
    },
    {
     "data": {
      "image/png": "[encoded data removed]",
      "text/plain": [
       "<Figure size 1000x800 with 1 Axes>"
      ]
     },
     "metadata": {},
     "output_type": "display_data"
    }
   ],
   "source": [
    "t.plot_decision_regions(Xtest[:,features],Ytest,clf=gb, res=0.02, cycle_marker=True, legend=1)"
   ]
  },
  {
   "cell_type": "markdown",
   "metadata": {},
   "source": [
    "## Goal: Find the best pair of features (that gives maximum mean cross-validation accuracy) from all the available pairs for the problem in hand"
   ]
  },
  {
   "cell_type": "code",
   "execution_count": 484,
   "metadata": {
    "jupyter": {
     "outputs_hidden": true
    }
   },
   "outputs": [],
   "source": [
    "# Step 1: Generate Feature Pairs Manually\n",
    "def generate_feature_pairs(n_features):\n",
    "    ''' Manually generate all possible pairs of features '''\n",
    "    pairs = []\n",
    "    for i in range(n_features):\n",
    "        for j in range(i + 1, n_features):\n",
    "            pairs.append((i, j))\n",
    "    return pairs\n",
    "\n",
    "# Step 2: Manually Implement Cross-Validation\n",
    "def cross_validate(X, Y, feature_pair, n_folds=5):\n",
    "    ''' Perform cross-validation for the given feature pair '''\n",
    "    n_samples = X.shape[0]\n",
    "    fold_size = n_samples // n_folds\n",
    "    indices = np.arange(n_samples)\n",
    "    np.random.shuffle(indices)  # Shuffle the data for random splitting\n",
    "    \n",
    "    accuracies = []\n",
    "    \n",
    "    for i in range(n_folds):\n",
    "        # Split into train and test sets\n",
    "        test_idx = indices[i*fold_size:(i+1)*fold_size]\n",
    "        train_idx = np.setdiff1d(indices, test_idx)\n",
    "        \n",
    "        X_train, Y_train = X[train_idx][:, feature_pair], Y[train_idx]\n",
    "        X_test, Y_test = X[test_idx][:, feature_pair], Y[test_idx]\n",
    "        \n",
    "        # Step 3: Train the Gaussian Bayes model\n",
    "        gb = GaussianBayes()\n",
    "        gb.train(X_train, Y_train)\n",
    "        \n",
    "        # Test the model and calculate accuracy\n",
    "        Y_pred = gb.predict(X_test)\n",
    "        accuracy = np.mean(Y_pred == Y_test)\n",
    "        accuracies.append(accuracy)\n",
    "    \n",
    "    # Return mean accuracy across folds\n",
    "    return np.mean(accuracies)\n",
    "\n",
    "# Step 4: Find the Best Pair of Features\n",
    "def find_best_feature_pair(X, Y, n_folds=5):\n",
    "    ''' Find the best feature pair based on cross-validation accuracy '''\n",
    "    n_features = X.shape[1]\n",
    "    feature_pairs = generate_feature_pairs(n_features)\n",
    "    best_accuracy = 0\n",
    "    best_pair = None\n",
    "    \n",
    "    for pair in feature_pairs:\n",
    "        mean_accuracy = cross_validate(X, Y, pair, n_folds)\n",
    "        print(f\"Feature pair {pair} has mean accuracy: {mean_accuracy:.2f}\")\n",
    "        \n",
    "        if mean_accuracy > best_accuracy:\n",
    "            best_accuracy = mean_accuracy\n",
    "            best_pair = pair\n",
    "    \n",
    "    return best_pair, best_accuracy"
   ]
  },
  {
   "cell_type": "code",
   "execution_count": 485,
   "metadata": {},
   "outputs": [
    {
     "name": "stdout",
     "output_type": "stream",
     "text": [
      "[0.31 0.36 0.33]\n",
      "[[5.   3.4 ]\n",
      " [5.92 2.76]\n",
      " [6.64 2.95]]\n",
      "[[0.32 0.37]\n",
      " [0.52 0.32]\n",
      " [0.64 0.32]]\n",
      "[0.32 0.34 0.33]\n",
      "[[4.98 3.42]\n",
      " [6.   2.81]\n",
      " [6.61 2.99]]\n",
      "[[0.37 0.41]\n",
      " [0.49 0.28]\n",
      " [0.67 0.31]]\n",
      "[0.35 0.31 0.34]\n",
      "[[5.01 3.41]\n",
      " [5.92 2.8 ]\n",
      " [6.65 2.98]]\n",
      "[[0.35 0.38]\n",
      " [0.55 0.33]\n",
      " [0.56 0.3 ]]\n",
      "[0.33 0.36 0.31]\n",
      "[[5.01 3.42]\n",
      " [5.99 2.8 ]\n",
      " [6.5  2.98]]\n",
      "[[0.37 0.4 ]\n",
      " [0.49 0.31]\n",
      " [0.61 0.33]]\n",
      "[0.32 0.32 0.35]\n",
      "[[5.01 3.43]\n",
      " [5.84 2.71]\n",
      " [6.53 2.97]]\n",
      "[[0.33 0.34]\n",
      " [0.48 0.32]\n",
      " [0.64 0.33]]\n",
      "Feature pair (0, 1) has mean accuracy: 0.78\n",
      "[0.32 0.33 0.34]\n",
      "[[5.   1.46]\n",
      " [5.91 4.22]\n",
      " [6.56 5.54]]\n",
      "[[0.36 0.19]\n",
      " [0.5  0.45]\n",
      " [0.65 0.55]]\n",
      "[0.31 0.31 0.38]\n",
      "[[5.01 1.49]\n",
      " [5.91 4.28]\n",
      " [6.62 5.58]]\n",
      "[[0.34 0.16]\n",
      " [0.48 0.45]\n",
      " [0.64 0.56]]\n",
      "[0.34 0.34 0.32]\n",
      "[[5.05 1.47]\n",
      " [5.93 4.28]\n",
      " [6.66 5.61]]\n",
      "[[0.35 0.16]\n",
      " [0.52 0.48]\n",
      " [0.64 0.55]]\n",
      "[0.34 0.33 0.32]\n",
      "[[4.98 1.46]\n",
      " [6.02 4.3 ]\n",
      " [6.47 5.44]]\n",
      "[[0.33 0.17]\n",
      " [0.51 0.46]\n",
      " [0.55 0.47]]\n",
      "[0.33 0.36 0.31]\n",
      "[[4.98 1.44]\n",
      " [5.92 4.23]\n",
      " [6.65 5.61]]\n",
      "[[0.37 0.17]\n",
      " [0.53 0.47]\n",
      " [0.63 0.57]]\n",
      "Feature pair (0, 2) has mean accuracy: 0.90\n",
      "[0.32 0.35 0.32]\n",
      "[[5.02 0.24]\n",
      " [5.95 1.35]\n",
      " [6.53 2.02]]\n",
      "[[0.36 0.11]\n",
      " [0.53 0.19]\n",
      " [0.62 0.27]]\n",
      "[0.34 0.32 0.34]\n",
      "[[5.04 0.26]\n",
      " [5.95 1.34]\n",
      " [6.65 2.04]]\n",
      "[[0.34 0.11]\n",
      " [0.49 0.2 ]\n",
      " [0.63 0.29]]\n",
      "[0.32 0.34 0.33]\n",
      "[[4.97 0.25]\n",
      " [5.89 1.31]\n",
      " [6.64 1.98]]\n",
      "[[0.36 0.11]\n",
      " [0.51 0.19]\n",
      " [0.63 0.25]]\n",
      "[0.32 0.33 0.35]\n",
      "[[5.01 0.23]\n",
      " [5.91 1.32]\n",
      " [6.59 2.04]]\n",
      "[[0.36 0.09]\n",
      " [0.53 0.21]\n",
      " [0.66 0.25]]\n",
      "[0.35 0.33 0.32]\n",
      "[[5.01 0.25]\n",
      " [5.96 1.31]\n",
      " [6.52 2.05]]\n",
      "[[0.36 0.11]\n",
      " [0.51 0.19]\n",
      " [0.6  0.29]]\n",
      "Feature pair (0, 3) has mean accuracy: 0.96\n",
      "[0.32 0.34 0.34]\n",
      "[[3.42 1.46]\n",
      " [2.76 4.23]\n",
      " [3.02 5.63]]\n",
      "[[0.4  0.18]\n",
      " [0.32 0.45]\n",
      " [0.31 0.56]]\n",
      "[0.31 0.38 0.32]\n",
      "[[3.46 1.48]\n",
      " [2.77 4.28]\n",
      " [2.99 5.61]]\n",
      "[[0.41 0.18]\n",
      " [0.31 0.44]\n",
      " [0.33 0.53]]\n",
      "[0.36 0.32 0.32]\n",
      "[[3.37 1.47]\n",
      " [2.77 4.25]\n",
      " [2.98 5.51]]\n",
      "[[0.36 0.18]\n",
      " [0.3  0.48]\n",
      " [0.33 0.56]]\n",
      "[0.3  0.35 0.35]\n",
      "[[3.43 1.46]\n",
      " [2.77 4.25]\n",
      " [2.92 5.46]]\n",
      "[[0.36 0.17]\n",
      " [0.3  0.49]\n",
      " [0.29 0.48]]\n",
      "[0.36 0.29 0.35]\n",
      "[[3.41 1.47]\n",
      " [2.76 4.3 ]\n",
      " [2.95 5.55]]\n",
      "[[0.37 0.17]\n",
      " [0.33 0.45]\n",
      " [0.32 0.58]]\n",
      "Feature pair (1, 2) has mean accuracy: 0.92\n",
      "[0.37 0.29 0.34]\n",
      "[[3.42 0.24]\n",
      " [2.75 1.31]\n",
      " [2.96 2.04]]\n",
      "[[0.37 0.1 ]\n",
      " [0.3  0.2 ]\n",
      " [0.3  0.26]]\n",
      "[0.33 0.32 0.35]\n",
      "[[3.45 0.25]\n",
      " [2.79 1.33]\n",
      " [2.97 2.01]]\n",
      "[[0.4  0.11]\n",
      " [0.3  0.19]\n",
      " [0.34 0.28]]\n",
      "[0.32 0.36 0.32]\n",
      "[[3.43 0.25]\n",
      " [2.77 1.33]\n",
      " [2.99 2.03]]\n",
      "[[0.35 0.11]\n",
      " [0.31 0.19]\n",
      " [0.33 0.29]]\n",
      "[0.32 0.35 0.33]\n",
      "[[3.39 0.23]\n",
      " [2.78 1.32]\n",
      " [2.99 2.06]]\n",
      "[[0.4  0.09]\n",
      " [0.32 0.19]\n",
      " [0.31 0.25]]\n",
      "[0.31 0.36 0.33]\n",
      "[[3.41 0.25]\n",
      " [2.75 1.33]\n",
      " [2.97 2.01]]\n",
      "[[0.4  0.12]\n",
      " [0.32 0.2 ]\n",
      " [0.31 0.29]]\n",
      "Feature pair (1, 3) has mean accuracy: 0.94\n",
      "[0.34 0.34 0.32]\n",
      "[[1.47 0.25]\n",
      " [4.32 1.34]\n",
      " [5.55 2.02]]\n",
      "[[0.18 0.11]\n",
      " [0.44 0.2 ]\n",
      " [0.56 0.29]]\n",
      "[0.32 0.34 0.33]\n",
      "[[1.45 0.26]\n",
      " [4.26 1.33]\n",
      " [5.54 2.02]]\n",
      "[[0.16 0.11]\n",
      " [0.44 0.2 ]\n",
      " [0.54 0.27]]\n",
      "[0.33 0.32 0.34]\n",
      "[[1.45 0.23]\n",
      " [4.3  1.36]\n",
      " [5.56 2.03]]\n",
      "[[0.17 0.1 ]\n",
      " [0.46 0.19]\n",
      " [0.56 0.28]]\n",
      "[0.32 0.34 0.34]\n",
      "[[1.46 0.22]\n",
      " [4.19 1.29]\n",
      " [5.55 2.02]]\n",
      "[[0.18 0.1 ]\n",
      " [0.47 0.18]\n",
      " [0.52 0.27]]\n",
      "[0.32 0.32 0.35]\n",
      "[[1.49 0.26]\n",
      " [4.23 1.32]\n",
      " [5.57 2.05]]\n",
      "[[0.16 0.11]\n",
      " [0.49 0.2 ]\n",
      " [0.56 0.25]]\n",
      "Feature pair (2, 3) has mean accuracy: 0.96\n",
      "Best feature pair: (0, 3) with accuracy: 0.96\n"
     ]
    }
   ],
   "source": [
    "best_pair, best_accuracy = find_best_feature_pair(X, Y, n_folds=5)\n",
    "print(f\"Best feature pair: {best_pair} with accuracy: {best_accuracy:.2f}\")"
   ]
  },
  {
   "cell_type": "code",
   "execution_count": null,
   "metadata": {},
   "outputs": [],
   "source": [
    "# YOUR CODE HERE\n",
    "        \n",
    "## Hint, you can use python dictionary or default dict for counting the words\n",
    "# or counter class from collections \n",
    "\n",
    "#TODO Complete this class for running the complete classifier... \n",
    "\n",
    "#You might need to define auxiliary classes for the complete algorithm..\n",
    "\n",
    "class NaiveBayes:\n",
    "    ''' Implements the Naive Bayes For Text Classification '''\n",
    "    \n",
    "    def __init__(self, classes):\n",
    "        self.classes = classes\n",
    "        self.prior = None\n",
    "        self.class_tokens = {c: [] for c in self.classes}  # Store tokens by class\n",
    "        self.vocab = set()\n",
    "        self.words_in_class_0 = 0\n",
    "        self.words_in_class_1 = 0\n",
    "        self.likelihoods = None\n",
    "        \n",
    "    def addExample(self, x, y):\n",
    "        '''\n",
    "            Add example to corresponding class model.\n",
    "            Input\n",
    "            ---------\n",
    "            x: example (list of words)\n",
    "            y: label (class label)\n",
    "        '''\n",
    "        # Add tokens from example `x` to the class-specific list of tokens\n",
    "        self.class_tokens[y].extend(x)\n",
    "        self.vocab.update(x)  # Update the vocabulary with tokens from this example\n",
    "    \n",
    "    def train(self, X, Y):\n",
    "        ''' Train the Naive Bayes model using the given data matrix X and labels Y.\n",
    "            \n",
    "            Input:\n",
    "            ------\n",
    "            X: [m x d] a data matrix of m d-dimensional examples.\n",
    "            Y: [m x 1] a label vector.\n",
    "            \n",
    "            Returns:\n",
    "            -----------\n",
    "            Nothing\n",
    "        '''\n",
    "        # Calculate prior probabilities for each class\n",
    "        prior_probs = []\n",
    "        likelihoods = []\n",
    "        for c in self.classes:\n",
    "            prior_prob = np.round(np.count_nonzero(Y == c) / Y.shape[0], 2)\n",
    "            prior_probs.append(prior_prob)\n",
    "        self.prior = np.array(prior_probs)\n",
    "        \n",
    "        # Making the tokens for each file\n",
    "        Tokens = []\n",
    "        for i in range(X.shape[0]):\n",
    "            for text in X[i]:\n",
    "                Tokens.append(parse_string(text))\n",
    "\n",
    "        # Removing the Stpowords from the Tokens\n",
    "#         Tokens = Remove_stopwords(Tokens)\n",
    "        \n",
    "        # Making Bag of Words for each file and saving in a dictionary to maintain class lable\n",
    "        BagofWords = []\n",
    "        for ind, token in enumerate(Tokens):\n",
    "            dictionary_label = {\n",
    "                'bow': create_bow_dict(token),\n",
    "                'class': Y[ind]\n",
    "            }\n",
    "            BagofWords.append(dictionary_label)\n",
    "\n",
    "        bow_class_0 = defaultdict(int)\n",
    "        bow_class_1 = defaultdict(int)\n",
    "\n",
    "        for entry in BagofWords:\n",
    "            bow = entry['bow']\n",
    "            label = entry['class']\n",
    "\n",
    "            # Aggregate the counts of words based on class\n",
    "            if label == 'neg':\n",
    "                for word, count in bow.items():\n",
    "                    bow_class_0[word] += count\n",
    "            else:\n",
    "                for word, count in bow.items():\n",
    "                    bow_class_1[word] += count\n",
    "\n",
    "        # Convert defaultdict back to regular dictionaries for final output\n",
    "        bow_class_0 = dict(bow_class_0)\n",
    "        bow_class_1 = dict(bow_class_1)\n",
    "        \n",
    "        # Calculating the Likelihood\n",
    "        vocabulary = []\n",
    "        for word in (list(bow_class_0.keys())):\n",
    "            vocabulary.append(word)\n",
    "        for word in (list(bow_class_1.keys())):\n",
    "            vocabulary.append(word)\n",
    "        \n",
    "        self.words_in_class_0 = total_words_class_0 = int(sum(list(bow_class_0.values())))  # This should be an integer\n",
    "        self.words_in_class_1 = total_words_class_1 = int(sum(list(bow_class_1.values())))  # This should be an integer\n",
    "\n",
    "        self.vocab = vocab_size = len(vocabulary)\n",
    "\n",
    "        # Initialize likelihood dictionaries\n",
    "        likelihood_class_0 = {}\n",
    "        likelihood_class_1 = {}\n",
    "\n",
    "        # Calculate likelihood for each word in class neg with Laplace smoothing\n",
    "        for word in vocabulary:\n",
    "            word_count_class_0 = bow_class_0.get(word, 0)  # Default to 0 if not found\n",
    "            likelihood_class_0[word] = (word_count_class_0 + 1) / (total_words_class_0 + vocab_size)\n",
    "        # Calculate likelihood for each word in class pos with Laplace smoothing\n",
    "        for word in vocabulary:\n",
    "            word_count_class_1 = bow_class_1.get(word, 0)\n",
    "            likelihood_class_1[word] = (word_count_class_1 + 1) / (total_words_class_1 + vocab_size)\n",
    "        \n",
    "        likelihoods.append(likelihood_class_0)\n",
    "        likelihoods.append(likelihood_class_1)\n",
    "        self.likelihoods = likelihoods\n",
    "        \n",
    "    def test(self, X):\n",
    "        ''' \n",
    "            Test the trained classifiers on the given set of examples \n",
    "        \n",
    "            Input:\n",
    "            ------\n",
    "            X: [m x d] a data matrix of m d-dimensional test examples.\n",
    "           \n",
    "            Returns:\n",
    "            -----------\n",
    "                pclass: the predicted class for each example, i.e. to which it belongs\n",
    "        '''\n",
    "        # YOUR CODE HERE\n",
    "        pclasses = []\n",
    "        # Making the tokens for each file\n",
    "        Tokens = []\n",
    "        for i in range(X.shape[0]):\n",
    "            for text in X[i]:\n",
    "                Tokens.append(parse_string(text))\n",
    "\n",
    "        # Making Bag of Words for each file and saving in a dictionary to maintain class lable\n",
    "        BagofWords = []\n",
    "        for token in Tokens:\n",
    "            BagofWords.append(create_bow_dict(token))\n",
    "        \n",
    "        posterior0 = []   \n",
    "        posterior1 = []\n",
    "        \n",
    "        for i in range(2):\n",
    "            if i == 0:\n",
    "                print(\"Class 0 is started\")\n",
    "                for bow in BagofWords:\n",
    "                    lh_0 = []\n",
    "                    time.sleep(5)\n",
    "                    print(len(BagofWords))\n",
    "                    j = 0\n",
    "                    for word in list(bow.keys()):\n",
    "                        print(len(list(bow.keys())))\n",
    "                        j += 1\n",
    "                        print(j)\n",
    "                        if word in list(self.likelihoods[0].keys()):\n",
    "                            lh_0.append(self.likelihoods[0][word])\n",
    "                        else:\n",
    "                            lh_0.append(1 / self.words_in_class_0 + self.vocab)\n",
    "                    product = 1\n",
    "                    print(\"lik len 0\", len(lh_0))\n",
    "                    for number in lh_0:\n",
    "                        product *= number\n",
    "                    posterior0.append(product*self.prior[0])\n",
    "            elif i == 1:\n",
    "                print(\"Class 0 is started\")\n",
    "                for bow in BagofWords:\n",
    "                    lh_1 = []\n",
    "                    time.sleep(5)\n",
    "                    print(len(BagofWords))\n",
    "                    j = 0\n",
    "                    for word in list(bow.keys()):\n",
    "                        print(len(list(bow.keys())))\n",
    "                        j += 1\n",
    "                        print(j)\n",
    "                        print(\"class_1\")\n",
    "                        if word in list(self.likelihoods[1].keys()):\n",
    "                            lh_1.append(self.likelihoods[1][word])\n",
    "                        else:\n",
    "                            lh_1.append(1 / self.words_in_class_0 + self.vocab)\n",
    "                    product = 1\n",
    "                    print(\"lik len 1\", len(lh_1))\n",
    "                    for number in lh_1:\n",
    "                        product *= number\n",
    "                    posterior1.append(product*self.prior[1])\n",
    "            \n",
    "            for i in range(len(posterior0)):\n",
    "                print(\"len poste \", len(posterior0), len(posterior1))\n",
    "                print(i)\n",
    "                pclasses.append(max(posterior0[i], posterior1[i]))\n",
    "                \n",
    "        return pclasses\n",
    "    def predict(self, x):\n",
    "        '''\n",
    "            Predict the label of given input example...\n",
    "            \n",
    "            Input\n",
    "            ---------\n",
    "            x: example (list of words)\n",
    "            \n",
    "        '''\n",
    "        \n",
    "        # YOUR CODE HERE\n",
    "        \n",
    "        return 0"
   ]
  }
 ],
 "metadata": {
  "kernelspec": {
   "display_name": "Python 3 (ipykernel)",
   "language": "python",
   "name": "python3"
  },
  "language_info": {
   "codemirror_mode": {
    "name": "ipython",
    "version": 3
   },
   "file_extension": ".py",
   "mimetype": "text/x-python",
   "name": "python",
   "nbconvert_exporter": "python",
   "pygments_lexer": "ipython3",
   "version": "3.11.4"
  }
 },
 "nbformat": 4,
 "nbformat_minor": 4
}
